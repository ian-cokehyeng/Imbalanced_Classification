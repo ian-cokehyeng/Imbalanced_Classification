{
 "cells": [
  {
   "cell_type": "markdown",
   "metadata": {},
   "source": [
    "# **Anomaly Detection using MISC-OD**"
   ]
  },
  {
   "cell_type": "markdown",
   "metadata": {},
   "source": [
    "The `MISC-OD` (Mutual Information and Reduced Spectral Clustering - Outlier Detection) algorithm was evaluated in comparison to the Local Outlier Factor (LOF) and Isolation Forest methods for novelty detection using a version of the `Wisconsin Breast Cancer (Diagnostics) dataset`.\n",
    "\n",
    "For detailed insights into this methodology, please refer to the following reference: [*A Novel Unsupervised Outlier Detection Algorithm Based on Mutual Information and Reduced Spectral Clustering*](https://www.mdpi.com/2079-9292/12/23)\n",
    "\n",
    "---\n"
   ]
  },
  {
   "cell_type": "markdown",
   "metadata": {},
   "source": [
    "## Results"
   ]
  },
  {
   "cell_type": "markdown",
   "metadata": {},
   "source": [
    "MISC-OD had a high ROC comparable to Isolation Forest, albeit slightly lower. Despite this, its AUPRC and Average Precision were higher. LOF had higher AUPRC and AP to MISC-OD but had a lower ROC. In conclusion, each model demonstrated merits depending on the evaluation metric.\n"
   ]
  },
  {
   "cell_type": "markdown",
   "metadata": {},
   "source": [
    "| Model    | ROC   | AUPRC   | AP    |\n",
    "|----------|-------|-------|-------|\n",
    "| MISC-OD  | 0.956 | 0.811 | 0.713 |\n",
    "| LOF      | 0.901 | 0.857 | 0.735 |\n",
    "| IsoForest| 0.967 | 0.670 | 0.681 |\n"
   ]
  },
  {
   "cell_type": "markdown",
   "metadata": {},
   "source": [
    "# Execution"
   ]
  },
  {
   "cell_type": "markdown",
   "metadata": {},
   "source": [
    "## Libraries"
   ]
  },
  {
   "cell_type": "code",
   "execution_count": 72,
   "metadata": {},
   "outputs": [],
   "source": [
    "import numpy as np\n",
    "import pandas as pd\n",
    "import matplotlib.pyplot as plt\n",
    "import seaborn as sns\n",
    "\n",
    "from sklearn.model_selection import train_test_split, StratifiedKFold, GridSearchCV\n",
    "from sklearn.preprocessing import StandardScaler\n",
    "from sklearn.metrics import accuracy_score, f1_score, auc, average_precision_score, roc_curve\n",
    "from sklearn.neighbors import KNeighborsClassifier\n",
    "from sklearn.linear_model import LogisticRegression\n",
    "from sklearn.ensemble import RandomForestClassifier\n",
    "\n",
    "from imblearn.over_sampling import RandomOverSampler, SMOTE, ADASYN\n",
    "from imblearn.under_sampling import RandomUnderSampler, TomekLinks\n",
    "from imblearn.combine import SMOTETomek\n",
    "\n",
    "from xgboost import XGBClassifier"
   ]
  },
  {
   "cell_type": "markdown",
   "metadata": {},
   "source": [
    "## Data Loading and Preprocessing"
   ]
  },
  {
   "cell_type": "markdown",
   "metadata": {},
   "source": [
    "The original Wisconsin-Breast Cancer (Diagnostics) dataset (WBC) from UCI machine learning repository is a classification dataset, which records the measurements for breast cancer cases. There are two classes, benign and malignant. The malignant class of this dataset is downsampled to 21 points, which are considered as outliers, while points in the benign class are considered inliers.\n",
    "\n",
    "---\n",
    "\n",
    "Data retrieved from: <br>\n",
    "[Stony Brook University ODDS Library: Breast Cancer Wisconsin (Original) Dataset](https://odds.cs.stonybrook.edu/wbc/) (Accessed May 14, 2024)"
   ]
  },
  {
   "cell_type": "code",
   "execution_count": 4,
   "metadata": {},
   "outputs": [
    {
     "data": {
      "text/html": [
       "<div>\n",
       "<style scoped>\n",
       "    .dataframe tbody tr th:only-of-type {\n",
       "        vertical-align: middle;\n",
       "    }\n",
       "\n",
       "    .dataframe tbody tr th {\n",
       "        vertical-align: top;\n",
       "    }\n",
       "\n",
       "    .dataframe thead th {\n",
       "        text-align: right;\n",
       "    }\n",
       "</style>\n",
       "<table border=\"1\" class=\"dataframe\">\n",
       "  <thead>\n",
       "    <tr style=\"text-align: right;\">\n",
       "      <th></th>\n",
       "      <th>V1</th>\n",
       "      <th>V2</th>\n",
       "      <th>V3</th>\n",
       "      <th>V4</th>\n",
       "      <th>V5</th>\n",
       "      <th>V6</th>\n",
       "      <th>V7</th>\n",
       "      <th>V8</th>\n",
       "      <th>V9</th>\n",
       "      <th>V10</th>\n",
       "      <th>...</th>\n",
       "      <th>V21</th>\n",
       "      <th>V22</th>\n",
       "      <th>V23</th>\n",
       "      <th>V24</th>\n",
       "      <th>V25</th>\n",
       "      <th>V26</th>\n",
       "      <th>V27</th>\n",
       "      <th>V28</th>\n",
       "      <th>Amount</th>\n",
       "      <th>Class</th>\n",
       "    </tr>\n",
       "  </thead>\n",
       "  <tbody>\n",
       "    <tr>\n",
       "      <th>0</th>\n",
       "      <td>-0.612</td>\n",
       "      <td>-0.770</td>\n",
       "      <td>-0.150</td>\n",
       "      <td>-0.225</td>\n",
       "      <td>2.029</td>\n",
       "      <td>-2.020</td>\n",
       "      <td>0.292</td>\n",
       "      <td>-0.523</td>\n",
       "      <td>0.358</td>\n",
       "      <td>0.070</td>\n",
       "      <td>...</td>\n",
       "      <td>-0.075</td>\n",
       "      <td>0.046</td>\n",
       "      <td>0.381</td>\n",
       "      <td>0.023</td>\n",
       "      <td>-2.221</td>\n",
       "      <td>-0.201</td>\n",
       "      <td>0.067</td>\n",
       "      <td>0.221</td>\n",
       "      <td>1.79</td>\n",
       "      <td>0</td>\n",
       "    </tr>\n",
       "    <tr>\n",
       "      <th>1</th>\n",
       "      <td>-0.815</td>\n",
       "      <td>1.319</td>\n",
       "      <td>1.329</td>\n",
       "      <td>0.027</td>\n",
       "      <td>-0.285</td>\n",
       "      <td>-0.654</td>\n",
       "      <td>0.322</td>\n",
       "      <td>0.436</td>\n",
       "      <td>-0.704</td>\n",
       "      <td>-0.601</td>\n",
       "      <td>...</td>\n",
       "      <td>-0.129</td>\n",
       "      <td>-0.369</td>\n",
       "      <td>0.091</td>\n",
       "      <td>0.401</td>\n",
       "      <td>-0.261</td>\n",
       "      <td>0.081</td>\n",
       "      <td>0.162</td>\n",
       "      <td>0.059</td>\n",
       "      <td>1.98</td>\n",
       "      <td>0</td>\n",
       "    </tr>\n",
       "    <tr>\n",
       "      <th>2</th>\n",
       "      <td>-0.318</td>\n",
       "      <td>1.119</td>\n",
       "      <td>0.970</td>\n",
       "      <td>-0.127</td>\n",
       "      <td>0.570</td>\n",
       "      <td>-0.532</td>\n",
       "      <td>0.706</td>\n",
       "      <td>-0.065</td>\n",
       "      <td>-0.463</td>\n",
       "      <td>-0.528</td>\n",
       "      <td>...</td>\n",
       "      <td>-0.305</td>\n",
       "      <td>-0.775</td>\n",
       "      <td>-0.124</td>\n",
       "      <td>-0.496</td>\n",
       "      <td>-0.018</td>\n",
       "      <td>0.122</td>\n",
       "      <td>0.249</td>\n",
       "      <td>0.093</td>\n",
       "      <td>0.89</td>\n",
       "      <td>0</td>\n",
       "    </tr>\n",
       "  </tbody>\n",
       "</table>\n",
       "<p>3 rows × 30 columns</p>\n",
       "</div>"
      ],
      "text/plain": [
       "      V1     V2     V3     V4     V5     V6     V7     V8     V9    V10  ...  \\\n",
       "0 -0.612 -0.770 -0.150 -0.225  2.029 -2.020  0.292 -0.523  0.358  0.070  ...   \n",
       "1 -0.815  1.319  1.329  0.027 -0.285 -0.654  0.322  0.436 -0.704 -0.601  ...   \n",
       "2 -0.318  1.119  0.970 -0.127  0.570 -0.532  0.706 -0.065 -0.463 -0.528  ...   \n",
       "\n",
       "     V21    V22    V23    V24    V25    V26    V27    V28  Amount  Class  \n",
       "0 -0.075  0.046  0.381  0.023 -2.221 -0.201  0.067  0.221    1.79      0  \n",
       "1 -0.129 -0.369  0.091  0.401 -0.261  0.081  0.162  0.059    1.98      0  \n",
       "2 -0.305 -0.775 -0.124 -0.496 -0.018  0.122  0.249  0.093    0.89      0  \n",
       "\n",
       "[3 rows x 30 columns]"
      ]
     },
     "metadata": {},
     "output_type": "display_data"
    }
   ],
   "source": [
    "# Load \n",
    "df = pd.read_csv('credit_card.csv')\n",
    "\n",
    "display(df.head(3).round(3))"
   ]
  },
  {
   "cell_type": "code",
   "execution_count": 61,
   "metadata": {},
   "outputs": [],
   "source": [
    "# Split\n",
    "X = df.iloc[:, :-1]\n",
    "y = df.iloc[:, -1]\n",
    "\n",
    "X_train, X_test, y_train, y_test = train_test_split(X, y,\n",
    "                                                    train_size=0.8,\n",
    "                                                    stratify=y,\n",
    "                                                    random_state=42)"
   ]
  },
  {
   "cell_type": "code",
   "execution_count": 65,
   "metadata": {},
   "outputs": [],
   "source": [
    "# Scale\n",
    "scaler = StandardScaler()\n",
    "X_train = scaler.fit_transform(X_train)\n",
    "X_test = scaler.transform(X_test)"
   ]
  },
  {
   "cell_type": "markdown",
   "metadata": {},
   "source": [
    "## EDA"
   ]
  },
  {
   "cell_type": "code",
   "execution_count": 18,
   "metadata": {},
   "outputs": [
    {
     "name": "stdout",
     "output_type": "stream",
     "text": [
      "Not fraud:  28432\n",
      "Fraud:      49\n"
     ]
    },
    {
     "data": {
      "image/png": "[encoded data removed]",
      "text/plain": [
       "<Figure size 640x480 with 1 Axes>"
      ]
     },
     "metadata": {},
     "output_type": "display_data"
    }
   ],
   "source": [
    "print(f\"Not fraud:  {df.Class.value_counts()[0]}\")\n",
    "print(f\"Fraud:      {df.Class.value_counts()[1]}\")\n",
    "df['Class'].value_counts().plot.bar();"
   ]
  },
  {
   "cell_type": "markdown",
   "metadata": {},
   "source": [
    "There is weak correlation between the features as the data has already been preprocessed using dimensionality reduction, namely Principal Component Analysus (PCA). PCA achieves this by transforming the original data into a set of linearly uncorrelated variables known as principal components. These components are ordered so that the first few retain most of the variation present in all of the original variables. As a result, the redundancy and correlation within the data are minimized, which is evident in the weak correlations between the transformed features. This can be beneficial for many machine learning algorithms that perform better on datasets where the features are not closely related, reducing issues like multicollinearity.\n",
    "\n",
    "The features in the original dataset are components."
   ]
  },
  {
   "cell_type": "code",
   "execution_count": 23,
   "metadata": {},
   "outputs": [
    {
     "data": {
      "image/png": "[encoded data removed]",
      "text/plain": [
       "<Figure size 640x480 with 2 Axes>"
      ]
     },
     "metadata": {},
     "output_type": "display_data"
    }
   ],
   "source": [
    "sns.heatmap(X.corr(), vmin=0, vmax=1, cmap='coolwarm', annot=True)\n",
    "plt.xticks(rotation=45, ha='right')\n",
    "ax = plt.gca()\n",
    "\n",
    "plt.show()"
   ]
  },
  {
   "cell_type": "markdown",
   "metadata": {},
   "source": [
    "## Baseline"
   ]
  },
  {
   "cell_type": "markdown",
   "metadata": {},
   "source": [
    "### PCC"
   ]
  },
  {
   "cell_type": "markdown",
   "metadata": {},
   "source": [
    "Due to the highly imbalanced nature of the data, the PCC metric is nonsensical and not useful. Given that the goal is in identifying fraudulent transactions, precision or recall scores would be more helpful as these metrics exclude true-negatives from the scoring calculation."
   ]
  },
  {
   "cell_type": "code",
   "execution_count": 29,
   "metadata": {},
   "outputs": [
    {
     "name": "stdout",
     "output_type": "stream",
     "text": [
      "Proportion Chance Criterion = 99.65650294452615%\n",
      "1.25*Proportion Chance Criterion = 124.57062868065769%\n"
     ]
    }
   ],
   "source": [
    "PCC = sum((y.value_counts() / len(y))**2)\n",
    "print(\"Proportion Chance Criterion = {}%\".format(100*PCC))\n",
    "print(\"1.25*Proportion Chance Criterion = {}%\".format(1.25*100*PCC))"
   ]
  },
  {
   "cell_type": "markdown",
   "metadata": {},
   "source": [
    "## Model x Resampling Method Evaluation"
   ]
  },
  {
   "cell_type": "markdown",
   "metadata": {},
   "source": [
    "### Set-Up"
   ]
  },
  {
   "cell_type": "code",
   "execution_count": 76,
   "metadata": {},
   "outputs": [],
   "source": [
    "seed = 42\n",
    "np.random.seed(seed)\n",
    "\n",
    "class NoResampling:\n",
    "    def fit_resample(self, X, y):\n",
    "        return X, y\n",
    "\n",
    "    def fit(self, X, y):\n",
    "        return self\n",
    "\n",
    "    def set_params(self, **params):\n",
    "        return self\n",
    "\n",
    "resampling_methods = {\n",
    "    'Original': NoResampling(),\n",
    "    'ROS': RandomOverSampler(),\n",
    "    'RUS': RandomUnderSampler(),\n",
    "    'Tomek': TomekLinks(),\n",
    "    'SMOTE': SMOTE(),\n",
    "    'ADASYN': ADASYN(),\n",
    "    'SMOTETomek': SMOTETomek()\n",
    "}\n",
    "\n",
    "models = {\n",
    "    'knn': KNeighborsClassifier(),\n",
    "    'logistic_l1': LogisticRegression(penalty='l1', solver='liblinear', max_iter=3000, random_state=seed),\n",
    "    'logistic_l2': LogisticRegression(penalty='l2', dual=False, max_iter=3000, random_state=seed),\n",
    "    'xgb': XGBClassifier(random_state=seed),\n",
    "    'rf': RandomForestClassifier(random_state=seed),\n",
    "}\n",
    "\n",
    "param_grid = {\n",
    "    'knn': {\n",
    "        'n_neighbors': [3, 5, 10]\n",
    "    },\n",
    "    'logistic_l1': {\n",
    "        'C': [0.01, 0.1, 1]\n",
    "    },\n",
    "    'logistic_l2': {\n",
    "        'C': [0.01, 0.1, 1]\n",
    "    },\n",
    "    'xgb': {\n",
    "        'n_estimators': [100, 200],\n",
    "        'max_depth': [5, 10],\n",
    "        'learning_rate': [0.01, 0.1]\n",
    "    },\n",
    "    'rf': {\n",
    "        'n_estimators': [100, 150],\n",
    "        'max_depth': [10, 20],\n",
    "    }\n",
    "}\n",
    "\n",
    "cv = StratifiedKFold(n_splits=3)"
   ]
  },
  {
   "cell_type": "markdown",
   "metadata": {},
   "source": [
    "### Gridsearch"
   ]
  },
  {
   "cell_type": "code",
   "execution_count": 77,
   "metadata": {},
   "outputs": [
    {
     "name": "stdout",
     "output_type": "stream",
     "text": [
      "Progress: 2.9%, Last: knn-Original"
     ]
    },
    {
     "name": "stdout",
     "output_type": "stream",
     "text": [
      "Progress: 100.0%, Last: rf-SMOTETomekOTETomek"
     ]
    }
   ],
   "source": [
    "# Initialize to store results\n",
    "results = []\n",
    "best_models_dict = {}\n",
    "\n",
    "for resample_method, resampler in resampling_methods.items():\n",
    "    X_resampled, y_resampled = resampler.fit_resample(X_train, y_train)\n",
    "\n",
    "    for model_name, model in models.items():\n",
    "        # Name\n",
    "        combo_name = f'{model_name}-{resample_method}'\n",
    "\n",
    "        # GridSearchCV\n",
    "        grid_search = GridSearchCV(model, \n",
    "                                   param_grid[model_name],\n",
    "                                   cv=cv,\n",
    "                                   n_jobs=-1,\n",
    "                                   scoring='f1', \n",
    "                                   return_train_score=True)\n",
    "        grid_search.fit(X_resampled, y_resampled)\n",
    "        best_model = grid_search.best_estimator_\n",
    "\n",
    "        # Get Train Val Metrics\n",
    "        idx = grid_search.best_index_\n",
    "        fit_time = grid_search.cv_results_['mean_fit_time'][idx]\n",
    "        train_f1 = grid_search.cv_results_['mean_train_score'][idx]\n",
    "        val_f1 = grid_search.cv_results_['mean_test_score'][idx]\n",
    "\n",
    "        # Get Test Metrics\n",
    "        y_pred = best_model.predict(X_test)\n",
    "        y_pred_proba = best_model.predict_proba(X_test)[:, 1]\n",
    "        test_ap = average_precision_score(y_test, y_pred_proba)\n",
    "        fpr, tpr, thr = roc_curve(y_test, y_pred_proba)\n",
    "        test_roc = auc(fpr, tpr)\n",
    "        test_f1 = f1_score(y_test, y_pred)\n",
    "        test_auprc = average_precision_score(y_test, y_pred_proba)\n",
    "        test_accuracy = accuracy_score(y_test, y_pred)\n",
    "\n",
    "        # Collect result\n",
    "        result = {'name': combo_name,\n",
    "                  'fit_time': fit_time,\n",
    "                  'train_f1': train_f1,\n",
    "                  'val_f1': val_f1,\n",
    "                  'test_f1': test_f1,\n",
    "                  'test_roc': test_roc,\n",
    "                  'test_avgPrecision': test_ap,\n",
    "                  'test_accuracy': test_accuracy}\n",
    "\n",
    "        results.append(result)"
   ]
  },
  {
   "cell_type": "markdown",
   "metadata": {},
   "source": [
    "### Evaluation"
   ]
  },
  {
   "cell_type": "code",
   "execution_count": 78,
   "metadata": {},
   "outputs": [],
   "source": [
    "df_results = pd.DataFrame(results)\n",
    "# df_results.to_csv('results.csv', index=False)"
   ]
  },
  {
   "cell_type": "code",
   "execution_count": 84,
   "metadata": {},
   "outputs": [
    {
     "data": {
      "text/html": [
       "<div>\n",
       "<style scoped>\n",
       "    .dataframe tbody tr th:only-of-type {\n",
       "        vertical-align: middle;\n",
       "    }\n",
       "\n",
       "    .dataframe tbody tr th {\n",
       "        vertical-align: top;\n",
       "    }\n",
       "\n",
       "    .dataframe thead th {\n",
       "        text-align: right;\n",
       "    }\n",
       "</style>\n",
       "<table border=\"1\" class=\"dataframe\">\n",
       "  <thead>\n",
       "    <tr style=\"text-align: right;\">\n",
       "      <th></th>\n",
       "      <th>name</th>\n",
       "      <th>fit_time</th>\n",
       "      <th>train_f1</th>\n",
       "      <th>val_f1</th>\n",
       "      <th>test_f1</th>\n",
       "      <th>test_roc</th>\n",
       "      <th>test_avgPrecision</th>\n",
       "      <th>test_accuracy</th>\n",
       "    </tr>\n",
       "  </thead>\n",
       "  <tbody>\n",
       "    <tr>\n",
       "      <th>23</th>\n",
       "      <td>xgb-SMOTE</td>\n",
       "      <td>0.641</td>\n",
       "      <td>1.000</td>\n",
       "      <td>1.000</td>\n",
       "      <td>0.632</td>\n",
       "      <td>0.976</td>\n",
       "      <td>0.709</td>\n",
       "      <td>0.999</td>\n",
       "    </tr>\n",
       "    <tr>\n",
       "      <th>28</th>\n",
       "      <td>xgb-ADASYN</td>\n",
       "      <td>0.641</td>\n",
       "      <td>1.000</td>\n",
       "      <td>0.939</td>\n",
       "      <td>0.600</td>\n",
       "      <td>0.964</td>\n",
       "      <td>0.645</td>\n",
       "      <td>0.999</td>\n",
       "    </tr>\n",
       "    <tr>\n",
       "      <th>12</th>\n",
       "      <td>logistic_l2-RUS</td>\n",
       "      <td>0.005</td>\n",
       "      <td>1.000</td>\n",
       "      <td>0.903</td>\n",
       "      <td>0.053</td>\n",
       "      <td>0.954</td>\n",
       "      <td>0.294</td>\n",
       "      <td>0.956</td>\n",
       "    </tr>\n",
       "    <tr>\n",
       "      <th>29</th>\n",
       "      <td>rf-ADASYN</td>\n",
       "      <td>11.321</td>\n",
       "      <td>0.994</td>\n",
       "      <td>0.914</td>\n",
       "      <td>0.200</td>\n",
       "      <td>0.952</td>\n",
       "      <td>0.591</td>\n",
       "      <td>0.989</td>\n",
       "    </tr>\n",
       "    <tr>\n",
       "      <th>33</th>\n",
       "      <td>xgb-SMOTETomek</td>\n",
       "      <td>0.739</td>\n",
       "      <td>1.000</td>\n",
       "      <td>1.000</td>\n",
       "      <td>0.632</td>\n",
       "      <td>0.941</td>\n",
       "      <td>0.713</td>\n",
       "      <td>0.999</td>\n",
       "    </tr>\n",
       "    <tr>\n",
       "      <th>34</th>\n",
       "      <td>rf-SMOTETomek</td>\n",
       "      <td>39.491</td>\n",
       "      <td>1.000</td>\n",
       "      <td>1.000</td>\n",
       "      <td>0.750</td>\n",
       "      <td>0.926</td>\n",
       "      <td>0.692</td>\n",
       "      <td>0.999</td>\n",
       "    </tr>\n",
       "    <tr>\n",
       "      <th>13</th>\n",
       "      <td>xgb-RUS</td>\n",
       "      <td>0.082</td>\n",
       "      <td>0.980</td>\n",
       "      <td>0.894</td>\n",
       "      <td>0.030</td>\n",
       "      <td>0.918</td>\n",
       "      <td>0.161</td>\n",
       "      <td>0.909</td>\n",
       "    </tr>\n",
       "    <tr>\n",
       "      <th>8</th>\n",
       "      <td>xgb-ROS</td>\n",
       "      <td>0.482</td>\n",
       "      <td>1.000</td>\n",
       "      <td>1.000</td>\n",
       "      <td>0.600</td>\n",
       "      <td>0.912</td>\n",
       "      <td>0.693</td>\n",
       "      <td>0.999</td>\n",
       "    </tr>\n",
       "    <tr>\n",
       "      <th>4</th>\n",
       "      <td>rf-Original</td>\n",
       "      <td>6.855</td>\n",
       "      <td>1.000</td>\n",
       "      <td>0.723</td>\n",
       "      <td>0.667</td>\n",
       "      <td>0.903</td>\n",
       "      <td>0.711</td>\n",
       "      <td>0.999</td>\n",
       "    </tr>\n",
       "    <tr>\n",
       "      <th>14</th>\n",
       "      <td>rf-RUS</td>\n",
       "      <td>0.143</td>\n",
       "      <td>1.000</td>\n",
       "      <td>0.931</td>\n",
       "      <td>0.068</td>\n",
       "      <td>0.901</td>\n",
       "      <td>0.727</td>\n",
       "      <td>0.961</td>\n",
       "    </tr>\n",
       "  </tbody>\n",
       "</table>\n",
       "</div>"
      ],
      "text/plain": [
       "               name  fit_time  train_f1  val_f1  test_f1  test_roc  \\\n",
       "23        xgb-SMOTE     0.641     1.000   1.000    0.632     0.976   \n",
       "28       xgb-ADASYN     0.641     1.000   0.939    0.600     0.964   \n",
       "12  logistic_l2-RUS     0.005     1.000   0.903    0.053     0.954   \n",
       "29        rf-ADASYN    11.321     0.994   0.914    0.200     0.952   \n",
       "33   xgb-SMOTETomek     0.739     1.000   1.000    0.632     0.941   \n",
       "34    rf-SMOTETomek    39.491     1.000   1.000    0.750     0.926   \n",
       "13          xgb-RUS     0.082     0.980   0.894    0.030     0.918   \n",
       "8           xgb-ROS     0.482     1.000   1.000    0.600     0.912   \n",
       "4       rf-Original     6.855     1.000   0.723    0.667     0.903   \n",
       "14           rf-RUS     0.143     1.000   0.931    0.068     0.901   \n",
       "\n",
       "    test_avgPrecision  test_accuracy  \n",
       "23              0.709          0.999  \n",
       "28              0.645          0.999  \n",
       "12              0.294          0.956  \n",
       "29              0.591          0.989  \n",
       "33              0.713          0.999  \n",
       "34              0.692          0.999  \n",
       "13              0.161          0.909  \n",
       "8               0.693          0.999  \n",
       "4               0.711          0.999  \n",
       "14              0.727          0.961  "
      ]
     },
     "execution_count": 84,
     "metadata": {},
     "output_type": "execute_result"
    }
   ],
   "source": [
    "df_results = df_results.sort_values(by=['test_roc'], ascending=False)\n",
    "df_results.round(3).head(10)"
   ]
  },
  {
   "cell_type": "markdown",
   "metadata": {},
   "source": [
    "## Final Result"
   ]
  },
  {
   "cell_type": "code",
   "execution_count": 28,
   "metadata": {},
   "outputs": [
    {
     "data": {
      "text/html": [
       "<div>\n",
       "<style scoped>\n",
       "    .dataframe tbody tr th:only-of-type {\n",
       "        vertical-align: middle;\n",
       "    }\n",
       "\n",
       "    .dataframe tbody tr th {\n",
       "        vertical-align: top;\n",
       "    }\n",
       "\n",
       "    .dataframe thead th {\n",
       "        text-align: right;\n",
       "    }\n",
       "</style>\n",
       "<table border=\"1\" class=\"dataframe\">\n",
       "  <thead>\n",
       "    <tr style=\"text-align: right;\">\n",
       "      <th></th>\n",
       "      <th>Model</th>\n",
       "      <th>roc</th>\n",
       "      <th>auprc</th>\n",
       "      <th>ap</th>\n",
       "    </tr>\n",
       "  </thead>\n",
       "  <tbody>\n",
       "    <tr>\n",
       "      <th>0</th>\n",
       "      <td>LOF</td>\n",
       "      <td>0.901961</td>\n",
       "      <td>0.857421</td>\n",
       "      <td>0.734893</td>\n",
       "    </tr>\n",
       "    <tr>\n",
       "      <th>1</th>\n",
       "      <td>IsoForest</td>\n",
       "      <td>0.966653</td>\n",
       "      <td>0.670314</td>\n",
       "      <td>0.680550</td>\n",
       "    </tr>\n",
       "    <tr>\n",
       "      <th>2</th>\n",
       "      <td>MISC-OD</td>\n",
       "      <td>0.956182</td>\n",
       "      <td>0.810847</td>\n",
       "      <td>0.712963</td>\n",
       "    </tr>\n",
       "  </tbody>\n",
       "</table>\n",
       "</div>"
      ],
      "text/plain": [
       "       Model       roc     auprc        ap\n",
       "0        LOF  0.901961  0.857421  0.734893\n",
       "1  IsoForest  0.966653  0.670314  0.680550\n",
       "2    MISC-OD  0.956182  0.810847  0.712963"
      ]
     },
     "metadata": {},
     "output_type": "display_data"
    }
   ],
   "source": [
    "display(pd.DataFrame(baseline_data))"
   ]
  },
  {
   "cell_type": "markdown",
   "metadata": {},
   "source": [
    "## **Acknowledgements**\n",
    "\n",
    "Huang, Y., Liu, W., Li, S., Guo, Y., & Chen, W. (2023). *A Novel Unsupervised Outlier Detection Algorithm Based on Mutual Information and Reduced Spectral Clustering*. *Electronics*, 12(23). MDPI AG. Available at [https://www.mdpi.com/2079-9292/12/23](https://www.mdpi.com/2079-9292/12/23) (accessed May 14, 2024).\n",
    "\n",
    "Wolberg,William, Mangasarian,Olvi, Street,Nick, and Street,W.. (1995). Breast Cancer Wisconsin (Diagnostic). UCI Machine Learning Repository. https://doi.org/10.24432/C5DW2B.\n",
    "\n",
    "---\n",
    "\n",
    "*The original dataset was downloaded from Stony Brook University's ODDS library:* <br>\n",
    "*Rayana, S. (2016). ODDS Library [http://odds.cs.stonybrook.edu]. Stony Brook, NY: Stony Brook University, Department of Computer Science.*\n",
    "<br>\n",
    "\n",
    "Data retrieved from: <br>\n",
    "[Stony Brook University ODDS Library: Breast Cancer Wisconsin (Original) Dataset](https://odds.cs.stonybrook.edu/wbc/) (Accessed May 14, 2024)"
   ]
  }
 ],
 "metadata": {
  "kernelspec": {
   "display_name": "jojie",
   "language": "python",
   "name": "python3"
  },
  "language_info": {
   "codemirror_mode": {
    "name": "ipython",
    "version": 3
   },
   "file_extension": ".py",
   "mimetype": "text/x-python",
   "name": "python",
   "nbconvert_exporter": "python",
   "pygments_lexer": "ipython3",
   "version": "3.10.12"
  }
 },
 "nbformat": 4,
 "nbformat_minor": 2
}
