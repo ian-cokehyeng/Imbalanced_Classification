{
 "cells": [
  {
   "cell_type": "markdown",
   "metadata": {},
   "source": [
    "# **Imbalanced Class Prediction: Credit Card Fraud**"
   ]
  },
  {
   "cell_type": "markdown",
   "metadata": {},
   "source": [
    "## **Introduction:**\n",
    "\n",
    "Traditional machine learning models often struggle with imbalanced datasets, where on class is vastly outnumbered by another. This imbalance can lead to models that perform poorly at detecting the minority class due to bias towards the majority class. This is especially problematic when a misclassification of the minority class has disproportionate consequences, such as in the case of detecting credit card fraud. \n",
    "\n",
    "To enhance a model's ability to identify the minority class accurately, this projects levarages `imbalanced-learn` resamplers, notably; RandomOverSampler, RandomUnderSampler, TomekLinks, SMOTE, SMOTETomek, and ADASYN. These were tested on three models: Logistic Regression (L1), Logistic Regression (L2), and RandomForestClassifier."
   ]
  },
  {
   "cell_type": "markdown",
   "metadata": {},
   "source": [
    "## **About the Data**:\n",
    "\n",
    "The dataset used was the `Credit Card Fraud Detection` dataset which was retrieved from [Kaggle](https://www.kaggle.com/datasets/mlg-ulb/creditcardfraud). The anonymized dataset contains transactions made by credit cards in September 2013 by European cardholders, where 492 frauds were identified out of 284,807 transactions. The dataset is highly unbalanced, the positive class (frauds) account for 0.172% of all transactions.\n",
    "\n",
    "It contains only numerical input variables which are the result of dimensionality reduction using PCA.  Features V1, V2, … V28 are the principal components obtained from PCA reduction, while the features which have not been transformed with PCA are 'Time' and 'Amount'. Feature 'Time' contains the seconds elapsed between each transaction and the first transaction in the dataset.  The 'Class' column is the target feature with value 1 indicating fraud and 0 if otherwise.\n",
    "\n",
    "For speed and GitHub limitations, the model was sampled to contain only 50,000 datapoints."
   ]
  },
  {
   "cell_type": "markdown",
   "metadata": {},
   "source": [
    "## **Methodology**\n",
    "* **Data Loading**: Load data from csv\n",
    "* **Data Cleaning**: Drop NaN values and duplicates\n",
    "* **Data Preprocessing**: This step normally involves scaling of numerical features and dimensionality reduction; however, the uploaded dataset had already been reduced\n",
    "* **Train Test Split**: Create train-test datasets\n",
    "* **Hyperparameter Tuning**: Using `GridSearchCV`, obtain the best model for every model-resampler combination and record results\n",
    "* **Evaluation**: Identify the top model-resampler combinations and evaluate using ROC-AUC and Average Precision"
   ]
  },
  {
   "cell_type": "markdown",
   "metadata": {},
   "source": [
    "## **Summary of Results**"
   ]
  },
  {
   "cell_type": "markdown",
   "metadata": {},
   "source": [
    "The best model was found to be Logistic Regression (C=1) with L1 regularization  when fitted on a resampled training dataset using TomekLinks. This was determined using the ROC-AUC and PR-AUC metrics. Accuracy was not used due to the highly imbalanced nature of the dataset. Precision, recall, and F1-scores were also not used as these depend on the threshold selected.\n",
    "\n",
    "The best resampling method for each model is recorded below:"
   ]
  },
  {
   "cell_type": "markdown",
   "metadata": {},
   "source": [
    "| name            | fit_time | test_roc | test_ap | test_accuracy |\n",
    "|-----------------|----------|----------|---------|---------------|\n",
    "| logistic_l1-Tomek | 0.452  | 0.995    | 0.829   | 0.999         |\n",
    "| logistic_l2-Tomek | 0.270  | 0.995    | 0.823   | 0.999         |\n",
    "| rf-SMOTETomek     | 32.180 | 0.987    | 0.832   | 0.999         |\n"
   ]
  },
  {
   "cell_type": "markdown",
   "metadata": {},
   "source": [
    "# **Execution**"
   ]
  },
  {
   "cell_type": "markdown",
   "metadata": {},
   "source": [
    "## **Libraries**"
   ]
  },
  {
   "cell_type": "code",
   "execution_count": 37,
   "metadata": {},
   "outputs": [],
   "source": [
    "import numpy as np\n",
    "import pandas as pd\n",
    "import matplotlib.pyplot as plt\n",
    "import seaborn as sns\n",
    "\n",
    "from sklearn.model_selection import train_test_split, StratifiedKFold, GridSearchCV\n",
    "from sklearn.preprocessing import StandardScaler\n",
    "from sklearn.metrics import (accuracy_score, f1_score, auc,\n",
    "                             precision_recall_curve, average_precision_score,\n",
    "                             roc_curve)\n",
    "from sklearn.linear_model import LogisticRegression\n",
    "from sklearn.ensemble import RandomForestClassifier\n",
    "\n",
    "from imblearn.over_sampling import RandomOverSampler, SMOTE, ADASYN\n",
    "from imblearn.under_sampling import RandomUnderSampler, TomekLinks\n",
    "from imblearn.combine import SMOTETomek"
   ]
  },
  {
   "cell_type": "markdown",
   "metadata": {},
   "source": [
    "## **Data Loading**"
   ]
  },
  {
   "cell_type": "markdown",
   "metadata": {},
   "source": [
    "The dataset used was the `Credit Card Fraud Detection` dataset which was originally retrieved from [Kaggle](https://www.kaggle.com/datasets/mlg-ulb/creditcardfraud) and reduced to a random 50,000 rows.\n",
    "\n",
    "The data contains only numerical input variables which are the result of dimensionality reduction using PCA.  Features V1, V2, … V28 are the principal components obtained with PCA, the only features which have not been transformed with PCA are 'Time' and 'Amount'. Feature 'Time' contains the seconds elapsed between each transaction and the first transaction in the dataset. The 'Class' column is the target feature with value 1 indicating fraud and 0 if otherwise.\n",
    "\n",
    "---\n",
    "\n",
    "Machine Learning Group - ULB, \"Credit Card Fraud Detection Dataset.\" Kaggle. Available at: [https://www.kaggle.com/datasets/mlg-ulb/creditcardfraud](https://www.kaggle.com/datasets/mlg-ulb/creditcardfraud). Accessed on June 15, 2024.\n"
   ]
  },
  {
   "cell_type": "code",
   "execution_count": 2,
   "metadata": {},
   "outputs": [
    {
     "data": {
      "text/html": [
       "<div>\n",
       "<style scoped>\n",
       "    .dataframe tbody tr th:only-of-type {\n",
       "        vertical-align: middle;\n",
       "    }\n",
       "\n",
       "    .dataframe tbody tr th {\n",
       "        vertical-align: top;\n",
       "    }\n",
       "\n",
       "    .dataframe thead th {\n",
       "        text-align: right;\n",
       "    }\n",
       "</style>\n",
       "<table border=\"1\" class=\"dataframe\">\n",
       "  <thead>\n",
       "    <tr style=\"text-align: right;\">\n",
       "      <th></th>\n",
       "      <th>Time</th>\n",
       "      <th>V1</th>\n",
       "      <th>V2</th>\n",
       "      <th>V3</th>\n",
       "      <th>V4</th>\n",
       "      <th>V5</th>\n",
       "      <th>V6</th>\n",
       "      <th>V7</th>\n",
       "      <th>V8</th>\n",
       "      <th>V9</th>\n",
       "      <th>...</th>\n",
       "      <th>V21</th>\n",
       "      <th>V22</th>\n",
       "      <th>V23</th>\n",
       "      <th>V24</th>\n",
       "      <th>V25</th>\n",
       "      <th>V26</th>\n",
       "      <th>V27</th>\n",
       "      <th>V28</th>\n",
       "      <th>Amount</th>\n",
       "      <th>Class</th>\n",
       "    </tr>\n",
       "  </thead>\n",
       "  <tbody>\n",
       "    <tr>\n",
       "      <th>0</th>\n",
       "      <td>143912.0</td>\n",
       "      <td>-1.229</td>\n",
       "      <td>1.722</td>\n",
       "      <td>-1.216</td>\n",
       "      <td>-0.622</td>\n",
       "      <td>0.129</td>\n",
       "      <td>-0.702</td>\n",
       "      <td>0.137</td>\n",
       "      <td>0.782</td>\n",
       "      <td>-0.149</td>\n",
       "      <td>...</td>\n",
       "      <td>0.454</td>\n",
       "      <td>1.321</td>\n",
       "      <td>0.031</td>\n",
       "      <td>0.790</td>\n",
       "      <td>-0.672</td>\n",
       "      <td>-0.274</td>\n",
       "      <td>0.331</td>\n",
       "      <td>0.307</td>\n",
       "      <td>0.74</td>\n",
       "      <td>0</td>\n",
       "    </tr>\n",
       "    <tr>\n",
       "      <th>1</th>\n",
       "      <td>129625.0</td>\n",
       "      <td>0.619</td>\n",
       "      <td>-2.345</td>\n",
       "      <td>-0.607</td>\n",
       "      <td>1.682</td>\n",
       "      <td>-1.126</td>\n",
       "      <td>0.778</td>\n",
       "      <td>-0.029</td>\n",
       "      <td>0.118</td>\n",
       "      <td>0.740</td>\n",
       "      <td>...</td>\n",
       "      <td>0.539</td>\n",
       "      <td>0.213</td>\n",
       "      <td>-0.285</td>\n",
       "      <td>0.718</td>\n",
       "      <td>-0.578</td>\n",
       "      <td>-0.854</td>\n",
       "      <td>-0.043</td>\n",
       "      <td>0.093</td>\n",
       "      <td>660.00</td>\n",
       "      <td>0</td>\n",
       "    </tr>\n",
       "    <tr>\n",
       "      <th>2</th>\n",
       "      <td>57186.0</td>\n",
       "      <td>-1.049</td>\n",
       "      <td>1.013</td>\n",
       "      <td>1.047</td>\n",
       "      <td>0.927</td>\n",
       "      <td>0.398</td>\n",
       "      <td>0.144</td>\n",
       "      <td>0.092</td>\n",
       "      <td>0.536</td>\n",
       "      <td>-1.207</td>\n",
       "      <td>...</td>\n",
       "      <td>0.197</td>\n",
       "      <td>0.426</td>\n",
       "      <td>-0.234</td>\n",
       "      <td>-0.271</td>\n",
       "      <td>0.544</td>\n",
       "      <td>-0.123</td>\n",
       "      <td>-0.225</td>\n",
       "      <td>-0.100</td>\n",
       "      <td>2.35</td>\n",
       "      <td>0</td>\n",
       "    </tr>\n",
       "  </tbody>\n",
       "</table>\n",
       "<p>3 rows × 31 columns</p>\n",
       "</div>"
      ],
      "text/plain": [
       "       Time     V1     V2     V3     V4     V5     V6     V7     V8     V9  \\\n",
       "0  143912.0 -1.229  1.722 -1.216 -0.622  0.129 -0.702  0.137  0.782 -0.149   \n",
       "1  129625.0  0.619 -2.345 -0.607  1.682 -1.126  0.778 -0.029  0.118  0.740   \n",
       "2   57186.0 -1.049  1.013  1.047  0.927  0.398  0.144  0.092  0.536 -1.207   \n",
       "\n",
       "   ...    V21    V22    V23    V24    V25    V26    V27    V28  Amount  Class  \n",
       "0  ...  0.454  1.321  0.031  0.790 -0.672 -0.274  0.331  0.307    0.74      0  \n",
       "1  ...  0.539  0.213 -0.285  0.718 -0.578 -0.854 -0.043  0.093  660.00      0  \n",
       "2  ...  0.197  0.426 -0.234 -0.271  0.544 -0.123 -0.225 -0.100    2.35      0  \n",
       "\n",
       "[3 rows x 31 columns]"
      ]
     },
     "metadata": {},
     "output_type": "display_data"
    }
   ],
   "source": [
    "# Load \n",
    "df = pd.read_csv('creditcard.csv')\n",
    "\n",
    "display(df.head(3).round(3))"
   ]
  },
  {
   "cell_type": "code",
   "execution_count": 3,
   "metadata": {},
   "outputs": [
    {
     "data": {
      "text/plain": [
       "Index(['Time', 'V1', 'V2', 'V3', 'V4', 'V5', 'V6', 'V7', 'V8', 'V9', 'V10',\n",
       "       'V11', 'V12', 'V13', 'V14', 'V15', 'V16', 'V17', 'V18', 'V19', 'V20',\n",
       "       'V21', 'V22', 'V23', 'V24', 'V25', 'V26', 'V27', 'V28', 'Amount',\n",
       "       'Class'],\n",
       "      dtype='object')"
      ]
     },
     "execution_count": 3,
     "metadata": {},
     "output_type": "execute_result"
    }
   ],
   "source": [
    "df.columns"
   ]
  },
  {
   "cell_type": "code",
   "execution_count": 67,
   "metadata": {},
   "outputs": [],
   "source": [
    "# Data  Cleaning \n",
    "df = df.drop_duplicates()\n",
    "df = df.dropna()\n",
    "df.reset_index(drop=True, inplace=True)"
   ]
  },
  {
   "cell_type": "markdown",
   "metadata": {},
   "source": [
    "## **Preprocessing**"
   ]
  },
  {
   "cell_type": "code",
   "execution_count": 4,
   "metadata": {},
   "outputs": [],
   "source": [
    "# Split\n",
    "X = df.iloc[:, :-1]\n",
    "y = df.iloc[:, -1]\n",
    "\n",
    "X_train, X_test, y_train, y_test = train_test_split(X, y,\n",
    "                                                    train_size=0.8,\n",
    "                                                    stratify=y,\n",
    "                                                    random_state=42)"
   ]
  },
  {
   "cell_type": "code",
   "execution_count": 5,
   "metadata": {},
   "outputs": [],
   "source": [
    "# Scale non-PCA components features\n",
    "scaler = StandardScaler()\n",
    "X_train[['Time','Amount']] = scaler.fit_transform(X_train[['Time','Amount']])\n",
    "X_test[['Time','Amount']] = scaler.transform(X_test[['Time','Amount']])"
   ]
  },
  {
   "cell_type": "markdown",
   "metadata": {},
   "source": [
    "## **Exploratory Data Analysis**"
   ]
  },
  {
   "cell_type": "code",
   "execution_count": 6,
   "metadata": {},
   "outputs": [
    {
     "name": "stdout",
     "output_type": "stream",
     "text": [
      "Not fraud:  49914\n",
      "Fraud:      86\n"
     ]
    },
    {
     "data": {
      "image/png": "[encoded data removed]",
      "text/plain": [
       "<Figure size 640x480 with 1 Axes>"
      ]
     },
     "metadata": {},
     "output_type": "display_data"
    }
   ],
   "source": [
    "print(f\"Not fraud:  {df.Class.value_counts()[0]}\")\n",
    "print(f\"Fraud:      {df.Class.value_counts()[1]}\")\n",
    "df['Class'].value_counts().plot.bar();"
   ]
  },
  {
   "cell_type": "markdown",
   "metadata": {},
   "source": [
    "There is weak correlation between the features as the data has already been preprocessed using dimensionality reduction, namely Principal Component Analysus (PCA). PCA achieves this by transforming the original data into a set of linearly uncorrelated variables known as principal components. These components are ordered so that the first few retain most of the variation present in all of the original variables. As a result, the redundancy and correlation within the data are minimized, which is evident in the weak correlations between the transformed features. This can be beneficial for many machine learning algorithms that perform better on datasets where the features are not closely related, reducing issues like multicollinearity.\n",
    "\n",
    "The features in the original dataset are components."
   ]
  },
  {
   "cell_type": "code",
   "execution_count": 7,
   "metadata": {},
   "outputs": [
    {
     "data": {
      "image/png": "[encoded data removed]",
      "text/plain": [
       "<Figure size 640x480 with 2 Axes>"
      ]
     },
     "metadata": {},
     "output_type": "display_data"
    }
   ],
   "source": [
    "sns.heatmap(X.corr(), vmin=0, vmax=1, cmap='coolwarm', annot=True)\n",
    "plt.xticks(rotation=45, ha='right')\n",
    "ax = plt.gca()\n",
    "\n",
    "plt.show()"
   ]
  },
  {
   "cell_type": "markdown",
   "metadata": {},
   "source": [
    "**Proportional Chance Criterion (PCC)**"
   ]
  },
  {
   "cell_type": "markdown",
   "metadata": {},
   "source": [
    "Due to the highly imbalanced nature of the data, the PCC metric is nonsensical and not useful in this case. Given that the goal is in identifying fraudulent transactions, precision or recall scores would be more helpful as these metrics exclude true-negatives from the scoring calculation."
   ]
  },
  {
   "cell_type": "code",
   "execution_count": 8,
   "metadata": {},
   "outputs": [
    {
     "name": "stdout",
     "output_type": "stream",
     "text": [
      "Proportion Chance Criterion = 99.65659167999999%\n",
      "1.25*Proportion Chance Criterion = 124.57073959999998%\n"
     ]
    }
   ],
   "source": [
    "PCC = sum((y.value_counts() / len(y))**2)\n",
    "print(\"Proportion Chance Criterion = {}%\".format(100*PCC))\n",
    "print(\"1.25*Proportion Chance Criterion = {}%\".format(1.25*100*PCC))"
   ]
  },
  {
   "cell_type": "markdown",
   "metadata": {},
   "source": [
    "## **Model x Resampler Testing**"
   ]
  },
  {
   "cell_type": "markdown",
   "metadata": {},
   "source": [
    "### **Set-Up**"
   ]
  },
  {
   "cell_type": "code",
   "execution_count": 19,
   "metadata": {},
   "outputs": [],
   "source": [
    "seed = 42\n",
    "np.random.seed(seed)\n",
    "\n",
    "# Create a NoResampling class that performs no rebalancing\n",
    "class NoResampling:\n",
    "    def fit_resample(self, X, y):\n",
    "        return X, y\n",
    "\n",
    "    def fit(self, X, y):\n",
    "        return self\n",
    "\n",
    "    def set_params(self, **params):\n",
    "        return self\n",
    "\n",
    "# Dictionary of all Resampling methods to be tested\n",
    "resampling_methods = {\n",
    "    'Original': NoResampling(),\n",
    "    'ROS': RandomOverSampler(),\n",
    "    'RUS': RandomUnderSampler(),\n",
    "    'Tomek': TomekLinks(),\n",
    "    'SMOTE': SMOTE(),\n",
    "    'ADASYN': ADASYN(),\n",
    "    'SMOTETomek': SMOTETomek()\n",
    "}\n",
    "\n",
    "# Dictionary of models to be tested\n",
    "models = {\n",
    "    'logistic_l1': LogisticRegression(penalty='l1',\n",
    "                                      solver='liblinear',\n",
    "                                      max_iter=3000, \n",
    "                                      random_state=seed),\n",
    "    'logistic_l2': LogisticRegression(penalty='l2',\n",
    "                                      dual=False,\n",
    "                                      max_iter=3000, random_state=seed),\n",
    "    'rf': RandomForestClassifier(random_state=seed),\n",
    "}\n",
    "\n",
    "# Grid for hyperparameter tuning\n",
    "param_grid = {\n",
    "    'logistic_l1': {\n",
    "        'C': [0.01, 0.1, 1]\n",
    "    },\n",
    "    'logistic_l2': {\n",
    "        'C': [0.01, 0.1, 1]\n",
    "    },\n",
    "    'rf': {\n",
    "        'n_estimators': [100],\n",
    "        'max_depth': [10],\n",
    "    }\n",
    "}"
   ]
  },
  {
   "cell_type": "markdown",
   "metadata": {},
   "source": [
    "### **Gridsearch**"
   ]
  },
  {
   "cell_type": "markdown",
   "metadata": {},
   "source": [
    "**Explanation:**\n",
    "\n",
    "1. **Initialization**: Prepare lists and dictionaries to store results and best models. Set up a `StratifiedKFold` cross-validation strategy with 3 splits.\n",
    "\n",
    "2. **Outer Loop - Resampling Methods**:\n",
    "    - Iterate over each resampling method provided in the `resampling_methods` dictionary.\n",
    "    - Apply the resampling method to the training data to balance the classes, generating `X_resampled` and `y_resampled`.\n",
    "\n",
    "3. **Inner Loop - Model Training**:\n",
    "    - Iterate over each machine learning model specified in the `models` dictionary.\n",
    "    - Combine the model name with the resampling method to create a unique identifier for the configuration.\n",
    "\n",
    "4. **Model Tuning**:\n",
    "    - Setup `GridSearchCV` for each model configuration using its respective parameter grid, specifying F1-score as the performance metric, and enabling parallel processing.\n",
    "    - Fit `GridSearchCV` on the resampled training data and determine the best model configuration.\n",
    "\n",
    "5. **Performance Metrics Calculation**:\n",
    "    - Extract and store the fitting time, training F1-score, and validation F1-score.\n",
    "    - Predict on the test set and calculate various metrics like F1-score, ROC AUC, Average Precision, and Accuracy.\n",
    "\n",
    "6. **Results Collection**:\n",
    "    - Compile all relevant metrics into a dictionary for each model configuration and append it to the results list.\n",
    "\n",
    "7. **Progress Tracking**:\n",
    "    - Update the progress after each iteration to monitor the completion percentage.\n",
    "\n",
    "This structured approach ensures that each combination of resampling method and model is systematically evaluated, optimizing for the best performance on the validation set while also considering the generalization on the test set."
   ]
  },
  {
   "cell_type": "code",
   "execution_count": 20,
   "metadata": {},
   "outputs": [
    {
     "name": "stdout",
     "output_type": "stream",
     "text": [
      "Iteration 100.0%, last: rf-SMOTETomekOTETomek\r"
     ]
    }
   ],
   "source": [
    "# Initialize to store results\n",
    "results = []\n",
    "best_models_dict = {}\n",
    "cv = StratifiedKFold(n_splits=3)\n",
    "\n",
    "# Progress Updater\n",
    "i = 0\n",
    "tasks = len(resampling_methods) * len(models)\n",
    "\n",
    "# Execute\n",
    "for resample_method, resampler in resampling_methods.items():\n",
    "    X_resampled, y_resampled = resampler.fit_resample(X_train, y_train)\n",
    "\n",
    "    for model_name, model in models.items():\n",
    "        # Name\n",
    "        combo_name = f'{model_name}-{resample_method}'\n",
    "\n",
    "        # GridSearchCV\n",
    "        grid_search = GridSearchCV(model, \n",
    "                                   param_grid[model_name],\n",
    "                                   cv=cv,\n",
    "                                   n_jobs=-1,\n",
    "                                   scoring='f1', \n",
    "                                   return_train_score=True)\n",
    "        grid_search.fit(X_resampled, y_resampled)\n",
    "        best_model = grid_search.best_estimator_\n",
    "\n",
    "        # Get Train Val Metrics\n",
    "        idx = grid_search.best_index_\n",
    "        fit_time = grid_search.cv_results_['mean_fit_time'][idx]\n",
    "        train_f1 = grid_search.cv_results_['mean_train_score'][idx]\n",
    "        val_f1 = grid_search.cv_results_['mean_test_score'][idx]\n",
    "\n",
    "        # Get Test Metrics\n",
    "        y_pred = best_model.predict(X_test)\n",
    "        y_pred_proba = best_model.predict_proba(X_test)[:, 1]\n",
    "        test_ap = average_precision_score(y_test, y_pred_proba)\n",
    "        fpr, tpr, thr = roc_curve(y_test, y_pred_proba)\n",
    "        test_roc = auc(fpr, tpr)\n",
    "        test_f1 = f1_score(y_test, y_pred)\n",
    "        test_auprc = average_precision_score(y_test, y_pred_proba)\n",
    "        test_accuracy = accuracy_score(y_test, y_pred)\n",
    "\n",
    "        # Collect result\n",
    "        result = {'name': combo_name,\n",
    "                  'fit_time': fit_time,\n",
    "                  'train_f1': train_f1,\n",
    "                  'val_f1': val_f1,\n",
    "                  'test_f1': test_f1,\n",
    "                  'test_roc': test_roc,\n",
    "                  'test_ap': test_ap,\n",
    "                  'test_accuracy': test_accuracy}\n",
    "\n",
    "        results.append(result)\n",
    "\n",
    "        # Print progress\n",
    "        i += 1\n",
    "        print(f\"Iteration {(i/tasks)*100:.1f}%, last: {combo_name}\", end='\\r') "
   ]
  },
  {
   "cell_type": "markdown",
   "metadata": {},
   "source": [
    "# **Evaluation**"
   ]
  },
  {
   "cell_type": "markdown",
   "metadata": {},
   "source": [
    "## **Results**"
   ]
  },
  {
   "cell_type": "code",
   "execution_count": 29,
   "metadata": {},
   "outputs": [
    {
     "data": {
      "text/html": [
       "<div>\n",
       "<style scoped>\n",
       "    .dataframe tbody tr th:only-of-type {\n",
       "        vertical-align: middle;\n",
       "    }\n",
       "\n",
       "    .dataframe tbody tr th {\n",
       "        vertical-align: top;\n",
       "    }\n",
       "\n",
       "    .dataframe thead th {\n",
       "        text-align: right;\n",
       "    }\n",
       "</style>\n",
       "<table border=\"1\" class=\"dataframe\">\n",
       "  <thead>\n",
       "    <tr style=\"text-align: right;\">\n",
       "      <th></th>\n",
       "      <th>name</th>\n",
       "      <th>fit_time</th>\n",
       "      <th>train_f1</th>\n",
       "      <th>val_f1</th>\n",
       "      <th>test_f1</th>\n",
       "      <th>test_roc</th>\n",
       "      <th>test_ap</th>\n",
       "      <th>test_accuracy</th>\n",
       "    </tr>\n",
       "  </thead>\n",
       "  <tbody>\n",
       "    <tr>\n",
       "      <th>10</th>\n",
       "      <td>logistic_l2-Tomek</td>\n",
       "      <td>0.270</td>\n",
       "      <td>0.760</td>\n",
       "      <td>0.736</td>\n",
       "      <td>0.593</td>\n",
       "      <td>0.995</td>\n",
       "      <td>0.823</td>\n",
       "      <td>0.999</td>\n",
       "    </tr>\n",
       "    <tr>\n",
       "      <th>1</th>\n",
       "      <td>logistic_l2-Original</td>\n",
       "      <td>0.249</td>\n",
       "      <td>0.738</td>\n",
       "      <td>0.730</td>\n",
       "      <td>0.593</td>\n",
       "      <td>0.995</td>\n",
       "      <td>0.826</td>\n",
       "      <td>0.999</td>\n",
       "    </tr>\n",
       "    <tr>\n",
       "      <th>9</th>\n",
       "      <td>logistic_l1-Tomek</td>\n",
       "      <td>0.452</td>\n",
       "      <td>0.790</td>\n",
       "      <td>0.710</td>\n",
       "      <td>0.593</td>\n",
       "      <td>0.995</td>\n",
       "      <td>0.829</td>\n",
       "      <td>0.999</td>\n",
       "    </tr>\n",
       "    <tr>\n",
       "      <th>0</th>\n",
       "      <td>logistic_l1-Original</td>\n",
       "      <td>0.485</td>\n",
       "      <td>0.760</td>\n",
       "      <td>0.705</td>\n",
       "      <td>0.593</td>\n",
       "      <td>0.994</td>\n",
       "      <td>0.829</td>\n",
       "      <td>0.999</td>\n",
       "    </tr>\n",
       "    <tr>\n",
       "      <th>7</th>\n",
       "      <td>logistic_l2-RUS</td>\n",
       "      <td>0.005</td>\n",
       "      <td>0.970</td>\n",
       "      <td>0.946</td>\n",
       "      <td>0.146</td>\n",
       "      <td>0.989</td>\n",
       "      <td>0.453</td>\n",
       "      <td>0.981</td>\n",
       "    </tr>\n",
       "    <tr>\n",
       "      <th>20</th>\n",
       "      <td>rf-SMOTETomek</td>\n",
       "      <td>32.180</td>\n",
       "      <td>1.000</td>\n",
       "      <td>1.000</td>\n",
       "      <td>0.811</td>\n",
       "      <td>0.987</td>\n",
       "      <td>0.832</td>\n",
       "      <td>0.999</td>\n",
       "    </tr>\n",
       "    <tr>\n",
       "      <th>14</th>\n",
       "      <td>rf-SMOTE</td>\n",
       "      <td>33.512</td>\n",
       "      <td>1.000</td>\n",
       "      <td>1.000</td>\n",
       "      <td>0.811</td>\n",
       "      <td>0.983</td>\n",
       "      <td>0.832</td>\n",
       "      <td>0.999</td>\n",
       "    </tr>\n",
       "    <tr>\n",
       "      <th>6</th>\n",
       "      <td>logistic_l1-RUS</td>\n",
       "      <td>0.004</td>\n",
       "      <td>0.978</td>\n",
       "      <td>0.956</td>\n",
       "      <td>0.064</td>\n",
       "      <td>0.980</td>\n",
       "      <td>0.251</td>\n",
       "      <td>0.953</td>\n",
       "    </tr>\n",
       "    <tr>\n",
       "      <th>16</th>\n",
       "      <td>logistic_l2-ADASYN</td>\n",
       "      <td>1.003</td>\n",
       "      <td>0.988</td>\n",
       "      <td>0.985</td>\n",
       "      <td>0.113</td>\n",
       "      <td>0.978</td>\n",
       "      <td>0.773</td>\n",
       "      <td>0.975</td>\n",
       "    </tr>\n",
       "    <tr>\n",
       "      <th>15</th>\n",
       "      <td>logistic_l1-ADASYN</td>\n",
       "      <td>2.768</td>\n",
       "      <td>0.988</td>\n",
       "      <td>0.986</td>\n",
       "      <td>0.116</td>\n",
       "      <td>0.974</td>\n",
       "      <td>0.776</td>\n",
       "      <td>0.976</td>\n",
       "    </tr>\n",
       "  </tbody>\n",
       "</table>\n",
       "</div>"
      ],
      "text/plain": [
       "                    name  fit_time  train_f1  val_f1  test_f1  test_roc  \\\n",
       "10     logistic_l2-Tomek     0.270     0.760   0.736    0.593     0.995   \n",
       "1   logistic_l2-Original     0.249     0.738   0.730    0.593     0.995   \n",
       "9      logistic_l1-Tomek     0.452     0.790   0.710    0.593     0.995   \n",
       "0   logistic_l1-Original     0.485     0.760   0.705    0.593     0.994   \n",
       "7        logistic_l2-RUS     0.005     0.970   0.946    0.146     0.989   \n",
       "20         rf-SMOTETomek    32.180     1.000   1.000    0.811     0.987   \n",
       "14              rf-SMOTE    33.512     1.000   1.000    0.811     0.983   \n",
       "6        logistic_l1-RUS     0.004     0.978   0.956    0.064     0.980   \n",
       "16    logistic_l2-ADASYN     1.003     0.988   0.985    0.113     0.978   \n",
       "15    logistic_l1-ADASYN     2.768     0.988   0.986    0.116     0.974   \n",
       "\n",
       "    test_ap  test_accuracy  \n",
       "10    0.823          0.999  \n",
       "1     0.826          0.999  \n",
       "9     0.829          0.999  \n",
       "0     0.829          0.999  \n",
       "7     0.453          0.981  \n",
       "20    0.832          0.999  \n",
       "14    0.832          0.999  \n",
       "6     0.251          0.953  \n",
       "16    0.773          0.975  \n",
       "15    0.776          0.976  "
      ]
     },
     "execution_count": 29,
     "metadata": {},
     "output_type": "execute_result"
    }
   ],
   "source": [
    "df_results = pd.DataFrame(results) \\\n",
    "    .sort_values(by=['test_roc', 'test_ap'], ascending=False)\n",
    "df_results.round(3).head(10)"
   ]
  },
  {
   "cell_type": "markdown",
   "metadata": {},
   "source": [
    "## **Top Results**"
   ]
  },
  {
   "cell_type": "code",
   "execution_count": 57,
   "metadata": {},
   "outputs": [
    {
     "data": {
      "text/html": [
       "<div>\n",
       "<style scoped>\n",
       "    .dataframe tbody tr th:only-of-type {\n",
       "        vertical-align: middle;\n",
       "    }\n",
       "\n",
       "    .dataframe tbody tr th {\n",
       "        vertical-align: top;\n",
       "    }\n",
       "\n",
       "    .dataframe thead th {\n",
       "        text-align: right;\n",
       "    }\n",
       "</style>\n",
       "<table border=\"1\" class=\"dataframe\">\n",
       "  <thead>\n",
       "    <tr style=\"text-align: right;\">\n",
       "      <th></th>\n",
       "      <th>name</th>\n",
       "      <th>fit_time</th>\n",
       "      <th>test_roc</th>\n",
       "      <th>test_ap</th>\n",
       "      <th>test_accuracy</th>\n",
       "    </tr>\n",
       "  </thead>\n",
       "  <tbody>\n",
       "    <tr>\n",
       "      <th>0</th>\n",
       "      <td>logistic_l1-Tomek</td>\n",
       "      <td>0.452</td>\n",
       "      <td>0.995</td>\n",
       "      <td>0.829</td>\n",
       "      <td>0.999</td>\n",
       "    </tr>\n",
       "    <tr>\n",
       "      <th>1</th>\n",
       "      <td>logistic_l2-Tomek</td>\n",
       "      <td>0.270</td>\n",
       "      <td>0.995</td>\n",
       "      <td>0.823</td>\n",
       "      <td>0.999</td>\n",
       "    </tr>\n",
       "    <tr>\n",
       "      <th>2</th>\n",
       "      <td>rf-SMOTETomek</td>\n",
       "      <td>32.180</td>\n",
       "      <td>0.987</td>\n",
       "      <td>0.832</td>\n",
       "      <td>0.999</td>\n",
       "    </tr>\n",
       "  </tbody>\n",
       "</table>\n",
       "</div>"
      ],
      "text/plain": [
       "                name  fit_time  test_roc  test_ap  test_accuracy\n",
       "0  logistic_l1-Tomek     0.452     0.995    0.829          0.999\n",
       "1  logistic_l2-Tomek     0.270     0.995    0.823          0.999\n",
       "2      rf-SMOTETomek    32.180     0.987    0.832          0.999"
      ]
     },
     "execution_count": 57,
     "metadata": {},
     "output_type": "execute_result"
    }
   ],
   "source": [
    "def top_by_model(df, substrings):\n",
    "    summarized_df = pd.DataFrame()\n",
    "    for substring in substrings:\n",
    "        temp_df = df[df['name'].str.contains(substring)]\n",
    "        if not temp_df.empty:\n",
    "            summarized_df = pd.concat([summarized_df, temp_df.head(1)], ignore_index=True)\n",
    "    return summarized_df\n",
    "\n",
    "model_types = ['logistic_l1', 'logistic_l2', 'rf']\n",
    "df_results_summarized = top_by_model(df_results, model_types)\n",
    "df_results_summarized.round(3)[['name', 'fit_time', 'test_roc', \n",
    "                                'test_ap', 'test_accuracy']]"
   ]
  },
  {
   "cell_type": "markdown",
   "metadata": {},
   "source": [
    "## **Best Model: AUC Curves**"
   ]
  },
  {
   "cell_type": "code",
   "execution_count": 59,
   "metadata": {},
   "outputs": [],
   "source": [
    "model = LogisticRegression(penalty='l1',\n",
    "                           solver='liblinear',\n",
    "                           max_iter=3000, \n",
    "                           random_state=seed)\n",
    "\n",
    "X_resampled, y_resampled = TomekLinks().fit_resample(X_train, y_train)\n",
    "\n",
    "# Grid for hyperparameter tuning\n",
    "param_grid = {\n",
    "        'C': [0.01, 0.1, 1]\n",
    "    }\n",
    "\n",
    "# GridSearchCV\n",
    "grid_search = GridSearchCV(model, \n",
    "                        param_grid,\n",
    "                        cv=cv,\n",
    "                        n_jobs=-1,\n",
    "                        scoring='f1', \n",
    "                        return_train_score=True)\n",
    "grid_search.fit(X_resampled, y_resampled)\n",
    "best_model = grid_search.best_estimator_\n",
    "\n",
    "# Get Test Metrics\n",
    "y_pred = best_model.predict(X_test)\n",
    "y_pred_proba = best_model.predict_proba(X_test)[:, 1]\n",
    "\n",
    "# Get AUCs\n",
    "fpr, tpr, thr = roc_curve(y_test, y_pred_proba)\n",
    "test_roc = auc(fpr, tpr)\n",
    "\n",
    "precision, recall, _ = precision_recall_curve(y_test, y_pred_proba)\n",
    "pr_auc = auc(recall, precision)"
   ]
  },
  {
   "cell_type": "code",
   "execution_count": 64,
   "metadata": {},
   "outputs": [
    {
     "name": "stdout",
     "output_type": "stream",
     "text": [
      "Params: \n",
      "--\n",
      "C: 1\n",
      "class_weight: None\n",
      "dual: False\n",
      "fit_intercept: True\n",
      "intercept_scaling: 1\n",
      "l1_ratio: None\n",
      "max_iter: 3000\n",
      "multi_class: auto\n",
      "n_jobs: None\n",
      "penalty: l1\n",
      "random_state: 42\n",
      "solver: liblinear\n",
      "tol: 0.0001\n",
      "verbose: 0\n",
      "warm_start: False\n"
     ]
    }
   ],
   "source": [
    "print('Params: \\n--')\n",
    "for param, value in best_model.get_params().items():\n",
    "    print(f\"{param}: {value}\")"
   ]
  },
  {
   "cell_type": "code",
   "execution_count": 65,
   "metadata": {},
   "outputs": [
    {
     "data": {
      "image/png": "[encoded data removed]",
      "text/plain": [
       "<Figure size 1200x500 with 2 Axes>"
      ]
     },
     "metadata": {},
     "output_type": "display_data"
    }
   ],
   "source": [
    "# Plotting\n",
    "plt.figure(figsize=(12, 5))\n",
    "\n",
    "# Subplot 1: ROC Curve\n",
    "plt.subplot(1, 2, 1)\n",
    "plt.plot(fpr, tpr, color='blue', label=f'ROC curve (area = {test_roc:.2f})')\n",
    "plt.plot([0, 1], [0, 1], color='navy', linestyle='--')\n",
    "plt.xlabel('False Positive Rate')\n",
    "plt.ylabel('True Positive Rate')\n",
    "plt.title('Receiver Operating Characteristic')\n",
    "plt.legend(loc=\"lower right\")\n",
    "\n",
    "# Subplot 2: Precision-Recall Curve\n",
    "plt.subplot(1, 2, 2)\n",
    "plt.plot(recall, precision, color='green', label=f'PR curve (area = {pr_auc:.2f})')\n",
    "plt.xlabel('Recall')\n",
    "plt.ylabel('Precision')\n",
    "plt.title('Precision-Recall Curve')\n",
    "plt.legend(loc=\"lower left\")\n",
    "\n",
    "# Show plots\n",
    "plt.tight_layout()\n",
    "plt.show()\n"
   ]
  },
  {
   "cell_type": "markdown",
   "metadata": {},
   "source": [
    "# **Acknowledgements**\n",
    "\n",
    "Guillaume Lemaitre, Fernando Nogueira, and Christos K. Aridas. \"Imbalanced-learn: A Python Toolbox to Tackle the Curse of Imbalanced Datasets in Machine Learning.\" *Journal of Machine Learning Research* 18, no. 17 (2017): 1-5.\n",
    "\n",
    "I. Tomek. “Two modifications of CNN.” *IEEE Transactions on Systems, Man, and Cybernetics* (1976): 769-772.\n",
    "\n",
    "N. V. Chawla, K. W. Bowyer, L. O. Hall, W. P. Kegelmeyer, \"SMOTE: Synthetic Minority Over-sampling Technique.\" *Journal of Artificial Intelligence Research* 16 (2002): 321-357.\n",
    "\n",
    "H. He, Y. Bai, E. A. Garcia, and S. Li. \"ADASYN: Adaptive synthetic sampling approach for imbalanced learning.\" In *IEEE International Joint Conference on Neural Networks (IEEE World Congress on Computational Intelligence)*, pages 1322-1328, June 2008.\n",
    "\n",
    "---<br>\n",
    "\n",
    "Machine Learning Group - ULB, \"Credit Card Fraud Detection Dataset.\" Kaggle. Available at: [https://www.kaggle.com/datasets/mlg-ulb/creditcardfraud](https://www.kaggle.com/datasets/mlg-ulb/creditcardfraud). Accessed on June 15, 2024.\n"
   ]
  }
 ],
 "metadata": {
  "kernelspec": {
   "display_name": "jojie",
   "language": "python",
   "name": "python3"
  },
  "language_info": {
   "codemirror_mode": {
    "name": "ipython",
    "version": 3
   },
   "file_extension": ".py",
   "mimetype": "text/x-python",
   "name": "python",
   "nbconvert_exporter": "python",
   "pygments_lexer": "ipython3",
   "version": "3.10.12"
  }
 },
 "nbformat": 4,
 "nbformat_minor": 2
}
